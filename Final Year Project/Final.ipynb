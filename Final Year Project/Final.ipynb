{
 "cells": [
  {
   "cell_type": "markdown",
   "id": "fe4df0b7-e713-4b88-b93d-d21a47bb8158",
   "metadata": {},
   "source": [
    "# Social_Netwrok_Ads Analysis"
   ]
  },
  {
   "cell_type": "code",
   "execution_count": 1,
   "id": "c8d54a56-d4f9-43e3-b54e-b56606d7cd35",
   "metadata": {},
   "outputs": [],
   "source": [
    "import warnings\n",
    "\n",
    "# Suppress all warnings\n",
    "warnings.filterwarnings(\"ignore\")"
   ]
  },
  {
   "cell_type": "code",
   "execution_count": 2,
   "id": "078959d3-2def-4d47-9d0c-fc7aebf26769",
   "metadata": {},
   "outputs": [],
   "source": [
    "#Importing relevant libraries\n",
    "\n",
    "import pandas as pd\n",
    "import numpy as np\n",
    "import matplotlib.pyplot as plt\n",
    "import seaborn as sns\n",
    "from sklearn.model_selection import train_test_split\n",
    "from sklearn.preprocessing import StandardScaler\n",
    "from sklearn.decomposition import PCA, KernelPCA\n",
    "from sklearn.ensemble import GradientBoostingClassifier\n",
    "from sklearn.metrics import accuracy_score\n",
    "from sklearn.metrics import classification_report, confusion_matrix, f1_score, precision_score, recall_score"
   ]
  },
  {
   "cell_type": "code",
   "execution_count": 3,
   "id": "ef32a036-589e-46f6-9484-c4f87c2e41dc",
   "metadata": {},
   "outputs": [],
   "source": [
    "# Load the dataset\n",
    "data = pd.read_csv(\"Social_Network_Ads.csv\")"
   ]
  },
  {
   "cell_type": "code",
   "execution_count": 4,
   "id": "83b02e27-e5ff-42f1-8d21-8750c40c989a",
   "metadata": {},
   "outputs": [
    {
     "data": {
      "text/html": [
       "<div>\n",
       "<style scoped>\n",
       "    .dataframe tbody tr th:only-of-type {\n",
       "        vertical-align: middle;\n",
       "    }\n",
       "\n",
       "    .dataframe tbody tr th {\n",
       "        vertical-align: top;\n",
       "    }\n",
       "\n",
       "    .dataframe thead th {\n",
       "        text-align: right;\n",
       "    }\n",
       "</style>\n",
       "<table border=\"1\" class=\"dataframe\">\n",
       "  <thead>\n",
       "    <tr style=\"text-align: right;\">\n",
       "      <th></th>\n",
       "      <th>User ID</th>\n",
       "      <th>Gender</th>\n",
       "      <th>Age</th>\n",
       "      <th>EstimatedSalary</th>\n",
       "      <th>Purchased</th>\n",
       "    </tr>\n",
       "  </thead>\n",
       "  <tbody>\n",
       "    <tr>\n",
       "      <th>0</th>\n",
       "      <td>15624510</td>\n",
       "      <td>Male</td>\n",
       "      <td>19</td>\n",
       "      <td>19000</td>\n",
       "      <td>0</td>\n",
       "    </tr>\n",
       "    <tr>\n",
       "      <th>1</th>\n",
       "      <td>15810944</td>\n",
       "      <td>Male</td>\n",
       "      <td>35</td>\n",
       "      <td>20000</td>\n",
       "      <td>0</td>\n",
       "    </tr>\n",
       "    <tr>\n",
       "      <th>2</th>\n",
       "      <td>15668575</td>\n",
       "      <td>Female</td>\n",
       "      <td>26</td>\n",
       "      <td>43000</td>\n",
       "      <td>0</td>\n",
       "    </tr>\n",
       "    <tr>\n",
       "      <th>3</th>\n",
       "      <td>15603246</td>\n",
       "      <td>Female</td>\n",
       "      <td>27</td>\n",
       "      <td>57000</td>\n",
       "      <td>0</td>\n",
       "    </tr>\n",
       "    <tr>\n",
       "      <th>4</th>\n",
       "      <td>15804002</td>\n",
       "      <td>Male</td>\n",
       "      <td>19</td>\n",
       "      <td>76000</td>\n",
       "      <td>0</td>\n",
       "    </tr>\n",
       "  </tbody>\n",
       "</table>\n",
       "</div>"
      ],
      "text/plain": [
       "    User ID  Gender  Age  EstimatedSalary  Purchased\n",
       "0  15624510    Male   19            19000          0\n",
       "1  15810944    Male   35            20000          0\n",
       "2  15668575  Female   26            43000          0\n",
       "3  15603246  Female   27            57000          0\n",
       "4  15804002    Male   19            76000          0"
      ]
     },
     "execution_count": 4,
     "metadata": {},
     "output_type": "execute_result"
    }
   ],
   "source": [
    "# The code below prints the first few rows of the dataframe 'data'\n",
    "data.head()"
   ]
  },
  {
   "cell_type": "code",
   "execution_count": 5,
   "id": "f1c9c64a-6dd0-4f62-8f5b-edb0b6f2a041",
   "metadata": {},
   "outputs": [
    {
     "data": {
      "text/plain": [
       "(400, 5)"
      ]
     },
     "execution_count": 5,
     "metadata": {},
     "output_type": "execute_result"
    }
   ],
   "source": [
    "# The code below retrieves the shape of the dataframe 'data'\n",
    "data.shape"
   ]
  },
  {
   "cell_type": "code",
   "execution_count": 6,
   "id": "3cd9aec1-8e45-40eb-b962-1e477c84c5d2",
   "metadata": {},
   "outputs": [
    {
     "data": {
      "text/plain": [
       "2000"
      ]
     },
     "execution_count": 6,
     "metadata": {},
     "output_type": "execute_result"
    }
   ],
   "source": [
    "# The code below retrieves the total number of elements in the dataframe 'data'\n",
    "data.size"
   ]
  },
  {
   "cell_type": "code",
   "execution_count": 7,
   "id": "751ba513-6a88-4d11-add7-d964de82fae3",
   "metadata": {},
   "outputs": [
    {
     "name": "stdout",
     "output_type": "stream",
     "text": [
      "<class 'pandas.core.frame.DataFrame'>\n",
      "RangeIndex: 400 entries, 0 to 399\n",
      "Data columns (total 5 columns):\n",
      " #   Column           Non-Null Count  Dtype \n",
      "---  ------           --------------  ----- \n",
      " 0   User ID          400 non-null    int64 \n",
      " 1   Gender           400 non-null    object\n",
      " 2   Age              400 non-null    int64 \n",
      " 3   EstimatedSalary  400 non-null    int64 \n",
      " 4   Purchased        400 non-null    int64 \n",
      "dtypes: int64(4), object(1)\n",
      "memory usage: 15.8+ KB\n"
     ]
    }
   ],
   "source": [
    "# The code below provides concise summary information about the dataframe 'data'\n",
    "data.info()"
   ]
  },
  {
   "cell_type": "code",
   "execution_count": 8,
   "id": "0810f6d8-ed9c-4c37-a67d-e997fde2699f",
   "metadata": {},
   "outputs": [
    {
     "data": {
      "text/html": [
       "<div>\n",
       "<style scoped>\n",
       "    .dataframe tbody tr th:only-of-type {\n",
       "        vertical-align: middle;\n",
       "    }\n",
       "\n",
       "    .dataframe tbody tr th {\n",
       "        vertical-align: top;\n",
       "    }\n",
       "\n",
       "    .dataframe thead th {\n",
       "        text-align: right;\n",
       "    }\n",
       "</style>\n",
       "<table border=\"1\" class=\"dataframe\">\n",
       "  <thead>\n",
       "    <tr style=\"text-align: right;\">\n",
       "      <th></th>\n",
       "      <th>User ID</th>\n",
       "      <th>Age</th>\n",
       "      <th>EstimatedSalary</th>\n",
       "      <th>Purchased</th>\n",
       "    </tr>\n",
       "  </thead>\n",
       "  <tbody>\n",
       "    <tr>\n",
       "      <th>count</th>\n",
       "      <td>4.000000e+02</td>\n",
       "      <td>400.000000</td>\n",
       "      <td>400.000000</td>\n",
       "      <td>400.000000</td>\n",
       "    </tr>\n",
       "    <tr>\n",
       "      <th>mean</th>\n",
       "      <td>1.569154e+07</td>\n",
       "      <td>37.655000</td>\n",
       "      <td>69742.500000</td>\n",
       "      <td>0.357500</td>\n",
       "    </tr>\n",
       "    <tr>\n",
       "      <th>std</th>\n",
       "      <td>7.165832e+04</td>\n",
       "      <td>10.482877</td>\n",
       "      <td>34096.960282</td>\n",
       "      <td>0.479864</td>\n",
       "    </tr>\n",
       "    <tr>\n",
       "      <th>min</th>\n",
       "      <td>1.556669e+07</td>\n",
       "      <td>18.000000</td>\n",
       "      <td>15000.000000</td>\n",
       "      <td>0.000000</td>\n",
       "    </tr>\n",
       "    <tr>\n",
       "      <th>25%</th>\n",
       "      <td>1.562676e+07</td>\n",
       "      <td>29.750000</td>\n",
       "      <td>43000.000000</td>\n",
       "      <td>0.000000</td>\n",
       "    </tr>\n",
       "    <tr>\n",
       "      <th>50%</th>\n",
       "      <td>1.569434e+07</td>\n",
       "      <td>37.000000</td>\n",
       "      <td>70000.000000</td>\n",
       "      <td>0.000000</td>\n",
       "    </tr>\n",
       "    <tr>\n",
       "      <th>75%</th>\n",
       "      <td>1.575036e+07</td>\n",
       "      <td>46.000000</td>\n",
       "      <td>88000.000000</td>\n",
       "      <td>1.000000</td>\n",
       "    </tr>\n",
       "    <tr>\n",
       "      <th>max</th>\n",
       "      <td>1.581524e+07</td>\n",
       "      <td>60.000000</td>\n",
       "      <td>150000.000000</td>\n",
       "      <td>1.000000</td>\n",
       "    </tr>\n",
       "  </tbody>\n",
       "</table>\n",
       "</div>"
      ],
      "text/plain": [
       "            User ID         Age  EstimatedSalary   Purchased\n",
       "count  4.000000e+02  400.000000       400.000000  400.000000\n",
       "mean   1.569154e+07   37.655000     69742.500000    0.357500\n",
       "std    7.165832e+04   10.482877     34096.960282    0.479864\n",
       "min    1.556669e+07   18.000000     15000.000000    0.000000\n",
       "25%    1.562676e+07   29.750000     43000.000000    0.000000\n",
       "50%    1.569434e+07   37.000000     70000.000000    0.000000\n",
       "75%    1.575036e+07   46.000000     88000.000000    1.000000\n",
       "max    1.581524e+07   60.000000    150000.000000    1.000000"
      ]
     },
     "execution_count": 8,
     "metadata": {},
     "output_type": "execute_result"
    }
   ],
   "source": [
    "# The code below generates descriptive statistics for the dataframe 'data'\n",
    "data.describe()"
   ]
  },
  {
   "cell_type": "markdown",
   "id": "015b7f4a-1472-4a12-b290-6c2803bba619",
   "metadata": {},
   "source": [
    "# Demographic Analysis"
   ]
  },
  {
   "cell_type": "code",
   "execution_count": 9,
   "id": "072f8018-9efc-48f0-8911-760e32cb7917",
   "metadata": {},
   "outputs": [
    {
     "data": {
      "image/png": "[encoded data removed]",
      "text/plain": [
       "<Figure size 640x480 with 1 Axes>"
      ]
     },
     "metadata": {},
     "output_type": "display_data"
    }
   ],
   "source": [
    "# Age distribution\n",
    "data['Age'].hist()\n",
    "plt.title('Age Distribution')\n",
    "plt.xlabel('Age')\n",
    "plt.ylabel('Frequency')\n",
    "plt.grid(False)  # Remove grid lines\n",
    "plt.show()"
   ]
  },
  {
   "cell_type": "code",
   "execution_count": 10,
   "id": "e3ff8acc-36db-40a0-a8ab-e7ff30fc6699",
   "metadata": {},
   "outputs": [
    {
     "data": {
      "image/png": "[encoded data removed]",
      "text/plain": [
       "<Figure size 640x480 with 1 Axes>"
      ]
     },
     "metadata": {},
     "output_type": "display_data"
    }
   ],
   "source": [
    "# Gender distribution\n",
    "data['Gender'].value_counts().plot(kind='bar', rot=0)\n",
    "plt.title('Gender Distribution')\n",
    "plt.xlabel('Gender')\n",
    "plt.ylabel('Count')\n",
    "plt.show()"
   ]
  },
  {
   "cell_type": "markdown",
   "id": "6709de53-0aaa-4436-82ef-ddd5b978b496",
   "metadata": {},
   "source": [
    "# Incom Analysis"
   ]
  },
  {
   "cell_type": "code",
   "execution_count": 11,
   "id": "f92a636f-27cf-4ba9-aef2-06e56e85edfa",
   "metadata": {},
   "outputs": [
    {
     "data": {
      "image/png": "[encoded data removed]",
      "text/plain": [
       "<Figure size 640x480 with 1 Axes>"
      ]
     },
     "metadata": {},
     "output_type": "display_data"
    }
   ],
   "source": [
    "# The code below creates a histogram of the 'EstimatedSalary' column in the dataframe 'data'\n",
    "data['EstimatedSalary'].hist()\n",
    "\n",
    "# Adding title to the histogram\n",
    "plt.title('Estimated Salary Distribution')\n",
    "\n",
    "# Adding label to the x-axis\n",
    "plt.xlabel('Estimated Salary')\n",
    "\n",
    "# Adding label to the y-axis\n",
    "plt.ylabel('Frequency')\n",
    "\n",
    "# Turning off grid lines\n",
    "plt.grid(False)\n",
    "\n",
    "# Displaying the histogram\n",
    "plt.show()"
   ]
  },
  {
   "cell_type": "code",
   "execution_count": 12,
   "id": "c48ccfb4-a3b5-4b11-8fce-f46a07d1306e",
   "metadata": {},
   "outputs": [
    {
     "data": {
      "image/png": "[encoded data removed]",
      "text/plain": [
       "<Figure size 1900.25x600 with 2 Axes>"
      ]
     },
     "metadata": {},
     "output_type": "display_data"
    }
   ],
   "source": [
    "# Define age bins\n",
    "age_bins = [18, 25, 35, 45, 55, 65, np.inf]\n",
    "age_labels = ['18-24', '25-34', '35-44', '45-54', '55-64', '65+']\n",
    "\n",
    "# Bin 'Age' column into intervals\n",
    "data['AgeGroup'] = pd.cut(data['Age'], bins=age_bins, labels=age_labels)\n",
    "\n",
    "# Plot purchasing behavior by age group and gender\n",
    "sns.catplot(x='AgeGroup', hue='Gender', col='Purchased', data=data, kind='count', height=6, aspect=1.5)\n",
    "plt.show()"
   ]
  },
  {
   "cell_type": "code",
   "execution_count": 13,
   "id": "e1902736-4e12-40a4-81c0-3542322da57c",
   "metadata": {},
   "outputs": [],
   "source": [
    "X = data.drop(columns=['User ID', 'Purchased'])  # Drop User ID as it's not useful for modeling\n",
    "y = data['Purchased']"
   ]
  },
  {
   "cell_type": "code",
   "execution_count": 14,
   "id": "daa52f5a-2bf1-4843-a77b-db589842f0a2",
   "metadata": {},
   "outputs": [],
   "source": [
    "# Perform one-hot encoding for the 'Gender' column\n",
    "data_encoded = pd.get_dummies(data, columns=['Gender'], drop_first=True)"
   ]
  },
  {
   "cell_type": "code",
   "execution_count": 15,
   "id": "af679361-625d-4c11-8807-89dcf4f62299",
   "metadata": {},
   "outputs": [
    {
     "data": {
      "text/html": [
       "<div>\n",
       "<style scoped>\n",
       "    .dataframe tbody tr th:only-of-type {\n",
       "        vertical-align: middle;\n",
       "    }\n",
       "\n",
       "    .dataframe tbody tr th {\n",
       "        vertical-align: top;\n",
       "    }\n",
       "\n",
       "    .dataframe thead th {\n",
       "        text-align: right;\n",
       "    }\n",
       "</style>\n",
       "<table border=\"1\" class=\"dataframe\">\n",
       "  <thead>\n",
       "    <tr style=\"text-align: right;\">\n",
       "      <th></th>\n",
       "      <th>User ID</th>\n",
       "      <th>Age</th>\n",
       "      <th>EstimatedSalary</th>\n",
       "      <th>Purchased</th>\n",
       "      <th>AgeGroup</th>\n",
       "      <th>Gender_Male</th>\n",
       "    </tr>\n",
       "  </thead>\n",
       "  <tbody>\n",
       "    <tr>\n",
       "      <th>0</th>\n",
       "      <td>15624510</td>\n",
       "      <td>19</td>\n",
       "      <td>19000</td>\n",
       "      <td>0</td>\n",
       "      <td>18-24</td>\n",
       "      <td>True</td>\n",
       "    </tr>\n",
       "    <tr>\n",
       "      <th>1</th>\n",
       "      <td>15810944</td>\n",
       "      <td>35</td>\n",
       "      <td>20000</td>\n",
       "      <td>0</td>\n",
       "      <td>25-34</td>\n",
       "      <td>True</td>\n",
       "    </tr>\n",
       "    <tr>\n",
       "      <th>2</th>\n",
       "      <td>15668575</td>\n",
       "      <td>26</td>\n",
       "      <td>43000</td>\n",
       "      <td>0</td>\n",
       "      <td>25-34</td>\n",
       "      <td>False</td>\n",
       "    </tr>\n",
       "    <tr>\n",
       "      <th>3</th>\n",
       "      <td>15603246</td>\n",
       "      <td>27</td>\n",
       "      <td>57000</td>\n",
       "      <td>0</td>\n",
       "      <td>25-34</td>\n",
       "      <td>False</td>\n",
       "    </tr>\n",
       "    <tr>\n",
       "      <th>4</th>\n",
       "      <td>15804002</td>\n",
       "      <td>19</td>\n",
       "      <td>76000</td>\n",
       "      <td>0</td>\n",
       "      <td>18-24</td>\n",
       "      <td>True</td>\n",
       "    </tr>\n",
       "  </tbody>\n",
       "</table>\n",
       "</div>"
      ],
      "text/plain": [
       "    User ID  Age  EstimatedSalary  Purchased AgeGroup  Gender_Male\n",
       "0  15624510   19            19000          0    18-24         True\n",
       "1  15810944   35            20000          0    25-34         True\n",
       "2  15668575   26            43000          0    25-34        False\n",
       "3  15603246   27            57000          0    25-34        False\n",
       "4  15804002   19            76000          0    18-24         True"
      ]
     },
     "execution_count": 15,
     "metadata": {},
     "output_type": "execute_result"
    }
   ],
   "source": [
    "#Show first five rows of new dataframe\n",
    "data_encoded.head()"
   ]
  },
  {
   "cell_type": "code",
   "execution_count": 16,
   "id": "9bf11261-5630-4240-9b2e-89c596dbee0b",
   "metadata": {},
   "outputs": [],
   "source": [
    "# Convert boolean values to integers in the 'Gender' column\n",
    "data_encoded['Gender_Male'] = data_encoded['Gender_Male'].astype(int)"
   ]
  },
  {
   "cell_type": "code",
   "execution_count": 17,
   "id": "143e94f5-5490-4b27-a1e6-1b48c49e0e9b",
   "metadata": {},
   "outputs": [
    {
     "data": {
      "text/html": [
       "<div>\n",
       "<style scoped>\n",
       "    .dataframe tbody tr th:only-of-type {\n",
       "        vertical-align: middle;\n",
       "    }\n",
       "\n",
       "    .dataframe tbody tr th {\n",
       "        vertical-align: top;\n",
       "    }\n",
       "\n",
       "    .dataframe thead th {\n",
       "        text-align: right;\n",
       "    }\n",
       "</style>\n",
       "<table border=\"1\" class=\"dataframe\">\n",
       "  <thead>\n",
       "    <tr style=\"text-align: right;\">\n",
       "      <th></th>\n",
       "      <th>User ID</th>\n",
       "      <th>Age</th>\n",
       "      <th>EstimatedSalary</th>\n",
       "      <th>Purchased</th>\n",
       "      <th>AgeGroup</th>\n",
       "      <th>Gender_Male</th>\n",
       "    </tr>\n",
       "  </thead>\n",
       "  <tbody>\n",
       "    <tr>\n",
       "      <th>0</th>\n",
       "      <td>15624510</td>\n",
       "      <td>19</td>\n",
       "      <td>19000</td>\n",
       "      <td>0</td>\n",
       "      <td>18-24</td>\n",
       "      <td>1</td>\n",
       "    </tr>\n",
       "    <tr>\n",
       "      <th>1</th>\n",
       "      <td>15810944</td>\n",
       "      <td>35</td>\n",
       "      <td>20000</td>\n",
       "      <td>0</td>\n",
       "      <td>25-34</td>\n",
       "      <td>1</td>\n",
       "    </tr>\n",
       "    <tr>\n",
       "      <th>2</th>\n",
       "      <td>15668575</td>\n",
       "      <td>26</td>\n",
       "      <td>43000</td>\n",
       "      <td>0</td>\n",
       "      <td>25-34</td>\n",
       "      <td>0</td>\n",
       "    </tr>\n",
       "    <tr>\n",
       "      <th>3</th>\n",
       "      <td>15603246</td>\n",
       "      <td>27</td>\n",
       "      <td>57000</td>\n",
       "      <td>0</td>\n",
       "      <td>25-34</td>\n",
       "      <td>0</td>\n",
       "    </tr>\n",
       "    <tr>\n",
       "      <th>4</th>\n",
       "      <td>15804002</td>\n",
       "      <td>19</td>\n",
       "      <td>76000</td>\n",
       "      <td>0</td>\n",
       "      <td>18-24</td>\n",
       "      <td>1</td>\n",
       "    </tr>\n",
       "  </tbody>\n",
       "</table>\n",
       "</div>"
      ],
      "text/plain": [
       "    User ID  Age  EstimatedSalary  Purchased AgeGroup  Gender_Male\n",
       "0  15624510   19            19000          0    18-24            1\n",
       "1  15810944   35            20000          0    25-34            1\n",
       "2  15668575   26            43000          0    25-34            0\n",
       "3  15603246   27            57000          0    25-34            0\n",
       "4  15804002   19            76000          0    18-24            1"
      ]
     },
     "execution_count": 17,
     "metadata": {},
     "output_type": "execute_result"
    }
   ],
   "source": [
    "#Show first five rows of dataframe\n",
    "data_encoded.head()"
   ]
  },
  {
   "cell_type": "code",
   "execution_count": 18,
   "id": "f3465a88-67a2-427f-a7e8-ea942df9b335",
   "metadata": {},
   "outputs": [],
   "source": [
    "# Specify x and y\n",
    "X = data_encoded[['Gender_Male', 'Age', 'EstimatedSalary']]\n",
    "y = data_encoded['Purchased']"
   ]
  },
  {
   "cell_type": "code",
   "execution_count": 19,
   "id": "d2b4dc0c-d35f-4d98-b883-ae7257f34f4b",
   "metadata": {},
   "outputs": [],
   "source": [
    "# Split the data into train and test sets\n",
    "X_train, X_test, y_train, y_test = train_test_split(X, y, test_size=0.2, random_state=42)"
   ]
  },
  {
   "cell_type": "code",
   "execution_count": 20,
   "id": "0a242846-3701-4b0c-ab27-f8dd37960f91",
   "metadata": {},
   "outputs": [],
   "source": [
    "# Standardize the features\n",
    "scaler = StandardScaler()\n",
    "X_train_scaled = scaler.fit_transform(X_train)\n",
    "X_test_scaled = scaler.transform(X_test)"
   ]
  },
  {
   "cell_type": "code",
   "execution_count": 21,
   "id": "6d3dad70-bc60-470b-af8e-9c0723ecfdea",
   "metadata": {},
   "outputs": [],
   "source": [
    "# PCA\n",
    "pca = PCA(n_components=2)  # You can adjust the number of components as needed\n",
    "X_train_pca = pca.fit_transform(X_train_scaled)\n",
    "X_test_pca = pca.transform(X_test_scaled)"
   ]
  },
  {
   "cell_type": "code",
   "execution_count": 22,
   "id": "9d5146a9-aaf7-4432-951c-500ec8c494ab",
   "metadata": {},
   "outputs": [],
   "source": [
    "# Kernel PCA\n",
    "kpca = KernelPCA(n_components=2, kernel='rbf')  # You can experiment with different kernels\n",
    "X_train_kpca = kpca.fit_transform(X_train_scaled)\n",
    "X_test_kpca = kpca.transform(X_test_scaled)"
   ]
  },
  {
   "cell_type": "code",
   "execution_count": 23,
   "id": "5049c570-26f0-47a0-9e61-94ef67139361",
   "metadata": {},
   "outputs": [],
   "source": [
    "# Train Gradient Boosting model\n",
    "gradboost_pca = GradientBoostingClassifier()\n",
    "gradboost_pca.fit(X_train_pca, y_train)\n",
    "\n",
    "gradboost_kpca = GradientBoostingClassifier()\n",
    "gradboost_kpca.fit(X_train_kpca, y_train)\n",
    "\n",
    "# Predictions\n",
    "y_pred_pca_gb = gradboost_pca.predict(X_test_pca)\n",
    "y_pred_kpca_gb = gradboost_kpca.predict(X_test_kpca)"
   ]
  },
  {
   "cell_type": "markdown",
   "id": "25b122aa-c27a-4361-aa19-b2ce44469f55",
   "metadata": {},
   "source": [
    "# Evaluation Metrics"
   ]
  },
  {
   "cell_type": "code",
   "execution_count": 24,
   "id": "377cf3d6-ebe1-4f0b-a9fc-4ad4a81a51e5",
   "metadata": {},
   "outputs": [],
   "source": [
    "# Evaluate models\n",
    "accuracy_pca_gb = accuracy_score(y_test, y_pred_pca_gb)\n",
    "accuracy_kpca_gb = accuracy_score(y_test, y_pred_kpca_gb)"
   ]
  },
  {
   "cell_type": "code",
   "execution_count": 25,
   "id": "5cd0fb61-9d45-4206-ac4f-7c24c4d8afda",
   "metadata": {},
   "outputs": [
    {
     "name": "stdout",
     "output_type": "stream",
     "text": [
      "Accuracy with PCA: 0.825\n",
      "Accuracy with kPCA: 0.925\n"
     ]
    }
   ],
   "source": [
    "print(\"Accuracy with PCA:\", accuracy_pca_gb)\n",
    "print(\"Accuracy with kPCA:\", accuracy_kpca_gb)"
   ]
  },
  {
   "cell_type": "code",
   "execution_count": 26,
   "id": "79bef798-741c-4ddf-872c-84ab2d5975b2",
   "metadata": {},
   "outputs": [
    {
     "name": "stdout",
     "output_type": "stream",
     "text": [
      "Evaluation metrics for PCA:\n",
      "Confusion Matrix:\n",
      "[[48  4]\n",
      " [10 18]]\n"
     ]
    }
   ],
   "source": [
    "# Evaluate PCA model\n",
    "print(\"Evaluation metrics for PCA:\")\n",
    "print(\"Confusion Matrix:\")\n",
    "print(confusion_matrix(y_test, y_pred_pca_gb))"
   ]
  },
  {
   "cell_type": "code",
   "execution_count": 27,
   "id": "ef712b9a-9282-4373-920f-a93157c29a48",
   "metadata": {},
   "outputs": [
    {
     "name": "stdout",
     "output_type": "stream",
     "text": [
      "Evaluation metrics for PCA:\n",
      "Confusion Matrix:\n",
      "[[48  4]\n",
      " [10 18]]\n"
     ]
    },
    {
     "data": {
      "image/png": "[encoded data removed]",
      "text/plain": [
       "<Figure size 600x400 with 2 Axes>"
      ]
     },
     "metadata": {},
     "output_type": "display_data"
    }
   ],
   "source": [
    "# Define labels for clarity\n",
    "labels = ['Not Purchased', 'Purchased']\n",
    "\n",
    "# Function to dynamically adjust font color based on background color\n",
    "def get_text_color(value):\n",
    "    return 'white' if value < 50 else 'black'  # Adjust the threshold as needed\n",
    "\n",
    "# Evaluate PCA model\n",
    "print(\"Evaluation metrics for PCA:\")\n",
    "print(\"Confusion Matrix:\")\n",
    "conf_matrix_pca = confusion_matrix(y_test, y_pred_pca_gb)\n",
    "print(conf_matrix_pca)\n",
    "plt.figure(figsize=(6, 4))\n",
    "sns.heatmap(conf_matrix_pca, annot=True, cmap='Dark2', fmt='g', cbar=True, xticklabels=labels, yticklabels=labels)\n",
    "# Manually annotate the heatmap with values and adjust font color\n",
    "for i in range(len(conf_matrix_pca)):\n",
    "    for j in range(len(conf_matrix_pca[i])):\n",
    "        plt.text(j+0.5, i+0.5, str(conf_matrix_pca[i][j]),\\\n",
    "        ha='center', va='center', fontsize=10, color=get_text_color(conf_matrix_pca[i][j]))\n",
    "plt.xlabel('Predicted labels')\n",
    "plt.ylabel('True labels')\n",
    "plt.title('Confusion Matrix for PCA')\n",
    "plt.show()"
   ]
  },
  {
   "cell_type": "code",
   "execution_count": 28,
   "id": "02458023-9bf9-4cb9-b3e9-ecd24bb8d8ec",
   "metadata": {},
   "outputs": [
    {
     "name": "stdout",
     "output_type": "stream",
     "text": [
      "\n",
      "Evaluation metrics for kPCA:\n",
      "Confusion Matrix:\n",
      "[[48  4]\n",
      " [ 2 26]]\n"
     ]
    },
    {
     "data": {
      "image/png": "[encoded data removed]",
      "text/plain": [
       "<Figure size 600x400 with 2 Axes>"
      ]
     },
     "metadata": {},
     "output_type": "display_data"
    }
   ],
   "source": [
    "# Evaluate KPCA model\n",
    "print(\"\\nEvaluation metrics for kPCA:\")\n",
    "print(\"Confusion Matrix:\")\n",
    "conf_matrix_kpca = confusion_matrix(y_test, y_pred_kpca_gb)\n",
    "print(conf_matrix_kpca)\n",
    "plt.figure(figsize=(6, 4))\n",
    "sns.heatmap(conf_matrix_kpca, annot=True, cmap='Dark2', fmt='g', cbar=True, xticklabels=labels, yticklabels=labels)\n",
    "# Manually annotate the heatmap with values and adjust font color\n",
    "for i in range(len(conf_matrix_kpca)):\n",
    "    for j in range(len(conf_matrix_kpca[i])):\n",
    "        plt.text(j+0.5, i+0.5, str(conf_matrix_kpca[i][j]),\\\n",
    "        ha='center', va='center', fontsize=10, color=get_text_color(conf_matrix_kpca[i][j]))\n",
    "plt.xlabel('Predicted labels')\n",
    "plt.ylabel('True labels')\n",
    "plt.title('Confusion Matrix for kPCA')\n",
    "plt.show()"
   ]
  },
  {
   "cell_type": "code",
   "execution_count": 29,
   "id": "1d5b61d1-a5ae-4704-bcc7-f0a0937e81b9",
   "metadata": {},
   "outputs": [
    {
     "name": "stdout",
     "output_type": "stream",
     "text": [
      "F1 Score: 0.7200000000000001\n",
      "Precision Score: 0.8181818181818182\n",
      "Recall Score: 0.6428571428571429\n",
      "----------------------\n",
      "F1 Score: 0.896551724137931\n",
      "Precision Score: 0.8666666666666667\n",
      "Recall Score: 0.9285714285714286\n"
     ]
    }
   ],
   "source": [
    "#Evaluate PCA model\n",
    "print(\"F1 Score:\", f1_score(y_test, y_pred_pca_gb))\n",
    "print(\"Precision Score:\", precision_score(y_test, y_pred_pca_gb))\n",
    "print(\"Recall Score:\", recall_score(y_test, y_pred_pca_gb))\n",
    "\n",
    "print(\"----------------------\")\n",
    "\n",
    "# Evaluate KPCA model\n",
    "print(\"F1 Score:\", f1_score(y_test, y_pred_kpca_gb))\n",
    "print(\"Precision Score:\", precision_score(y_test, y_pred_kpca_gb))\n",
    "print(\"Recall Score:\", recall_score(y_test, y_pred_kpca_gb))\n"
   ]
  },
  {
   "cell_type": "code",
   "execution_count": null,
   "id": "ce245006-ced3-4c33-81ef-db4210264142",
   "metadata": {},
   "outputs": [],
   "source": []
  }
 ],
 "metadata": {
  "kernelspec": {
   "display_name": "Python 3 (ipykernel)",
   "language": "python",
   "name": "python3"
  },
  "language_info": {
   "codemirror_mode": {
    "name": "ipython",
    "version": 3
   },
   "file_extension": ".py",
   "mimetype": "text/x-python",
   "name": "python",
   "nbconvert_exporter": "python",
   "pygments_lexer": "ipython3",
   "version": "3.11.7"
  }
 },
 "nbformat": 4,
 "nbformat_minor": 5
}
